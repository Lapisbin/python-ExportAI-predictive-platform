{
 "cells": [
  {
   "cell_type": "code",
   "execution_count": null,
   "id": "4e31d73e",
   "metadata": {},
   "outputs": [],
   "source": [
    "import xgboost as xgb\n",
    "import pandas as pd\n",
    "import numpy as np\n",
    "from sklearn.metrics import mean_squared_error, r2_score, mean_absolute_error\n",
    "import warnings\n",
    "warnings.filterwarnings('ignore')\n",
    "\n",
    "# 1. 데이터 로딩\n",
    "df = pd.read_excel('통합된_수출_예측_데이터셋.xlsx', index_col='날짜', parse_dates=True) # 데이터 통합본 넣기\n",
    "\n",
    "# 2. 피처 & 타깃 분리\n",
    "X = df.drop(columns=['수출량'])  # 수출량 제외 모든 피처\n",
    "y = df['수출량']  # 타겟\n",
    "\n",
    "# 3. 시계열 순서 유지한 학습/테스트 분리\n",
    "split_idx = int(len(df) * 0.8)\n",
    "X_train, X_test = X.iloc[:split_idx], X.iloc[split_idx:]\n",
    "y_train, y_test = y.iloc[:split_idx], y.iloc[split_idx:]\n",
    "\n",
    "# 4. DMatrix 변환\n",
    "dtrain = xgb.DMatrix(data=X_train, label=y_train)\n",
    "dtest = xgb.DMatrix(data=X_test, label=y_test)\n",
    "\n",
    "# 5. 파라미터 설정 및 학습\n",
    "params = {\n",
    "    'max_depth': 3,\n",
    "    'eta': 0.1,\n",
    "    'objective': 'reg:squarederror',\n",
    "    'eval_metric': 'rmse'\n",
    "}\n",
    "xgb_model = xgb.train(\n",
    "    params=params,\n",
    "    dtrain=dtrain,\n",
    "    num_boost_round=200,\n",
    "    early_stopping_rounds=50,\n",
    "    evals=[(dtrain, 'train'), (dtest, 'eval')]\n",
    ")\n",
    "\n",
    "# 6. 예측\n",
    "preds = xgb_model.predict(dtest)\n",
    "\n",
    "# 7. 평가\n",
    "def get_reg_eval(y_true, y_pred):\n",
    "    mse = mean_squared_error(y_true, y_pred)\n",
    "    rmse = np.sqrt(mse)\n",
    "    mae = mean_absolute_error(y_true, y_pred)\n",
    "    r2 = r2_score(y_true, y_pred)\n",
    "    print(f\"MAE: {mae:.4f}, RMSE: {rmse:.4f}, R2: {r2:.4f}\")\n",
    "\n",
    "get_reg_eval(y_test, preds)\n"
   ]
  }
 ],
 "metadata": {
  "kernelspec": {
   "display_name": "base",
   "language": "python",
   "name": "python3"
  },
  "language_info": {
   "name": "python",
   "version": "3.12.7"
  }
 },
 "nbformat": 4,
 "nbformat_minor": 5
}
