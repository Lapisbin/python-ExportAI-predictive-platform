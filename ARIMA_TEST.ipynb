{
 "cells": [
  {
   "cell_type": "code",
   "execution_count": null,
   "id": "722622c7",
   "metadata": {},
   "outputs": [],
   "source": [
    "# ARIMA 테스트\n",
    "from pandas import read_csv\n",
    "from datetime import datetime\n",
    "from pandas import DataFrame\n",
    "from statsmodels.tsa.arima.model import ARIMA\n",
    "import matplotlib.pyplot as pyplot\n",
    "\n",
    "def parser(x):\n",
    "    return datetime.strptime(x, '%Y-%m')\n",
    "\n",
    "# 데이터 불러오기\n",
    "series = read_csv('/content/AirPassengers.csv', header=0, parse_dates=[0], index_col=0, date_parser=parser)\n",
    "\n",
    "\n",
    "model = ARIMA(series, order=(5,1,0))\n",
    "model_fit = model.fit()\n",
    "print(model_fit.summary())\n",
    "\n",
    "residuals = DataFrame(model_fit.resid)\n",
    "residuals.plot()\n",
    "pyplot.show()\n",
    "\n",
    "residuals.plot(kind='kde')\n",
    "pyplot.show()\n",
    "\n",
    "print(residuals.describe())\n"
   ]
  }
 ],
 "metadata": {
  "language_info": {
   "name": "python"
  }
 },
 "nbformat": 4,
 "nbformat_minor": 5
}
